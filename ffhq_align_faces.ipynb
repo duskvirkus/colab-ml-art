{
  "nbformat": 4,
  "nbformat_minor": 0,
  "metadata": {
    "colab": {
      "name": "ffhq_align_faces.ipynb",
      "private_outputs": true,
      "provenance": [],
      "collapsed_sections": [],
      "toc_visible": true,
      "include_colab_link": true
    },
    "kernelspec": {
      "name": "python3",
      "display_name": "Python 3"
    },
    "language_info": {
      "name": "python"
    }
  },
  "cells": [
    {
      "cell_type": "markdown",
      "metadata": {
        "id": "view-in-github",
        "colab_type": "text"
      },
      "source": [
        "<a href=\"https://colab.research.google.com/github/duskvirkus/ml-art-colab/blob/main/ffhq_align_faces.ipynb\" target=\"_parent\"><img src=\"https://colab.research.google.com/assets/colab-badge.svg\" alt=\"Open In Colab\"/></a>"
      ]
    },
    {
      "cell_type": "markdown",
      "metadata": {
        "id": "3iodGlkx3fc9"
      },
      "source": [
        "# Align Faces\n",
        "This notebook will walk thru the process to take a folder of face images and convert them to images in the format of FFHQ."
      ]
    },
    {
      "cell_type": "code",
      "metadata": {
        "id": "EgnXI-bk3ZIt"
      },
      "source": [
        "!git clone https://github.com/dvschultz/stylegan2-ada"
      ],
      "execution_count": null,
      "outputs": []
    },
    {
      "cell_type": "code",
      "metadata": {
        "id": "-JLevi_53p7T"
      },
      "source": [
        "!gdown --id 1iW2ts9PAWa_5_B3LS16KvpvAvoeLZc8v\n",
        "!unzip /content/suicidegirls-jpg.zip"
      ],
      "execution_count": null,
      "outputs": []
    },
    {
      "cell_type": "code",
      "metadata": {
        "id": "XwkMQsIq4jTH"
      },
      "source": [
        "%cd /content/stylegan2-ada/"
      ],
      "execution_count": null,
      "outputs": []
    },
    {
      "cell_type": "code",
      "metadata": {
        "id": "52h5HDcq33oh"
      },
      "source": [
        "import os\n",
        "import sys\n",
        "import bz2\n",
        "from keras.utils import get_file\n",
        "from ffhq_dataset.face_alignment import image_align\n",
        "from ffhq_dataset.landmarks_detector import LandmarksDetector\n",
        "\n",
        "LANDMARKS_MODEL_URL = 'http://dlib.net/files/shape_predictor_68_face_landmarks.dat.bz2'\n",
        "RAW_IMAGES_DIR = '/content/suicidegirls-jpg'\n",
        "ALIGNED_IMAGES_DIR = '/content/drive/MyDrive/datasets/suicidegirls-faces'\n",
        "\n",
        "if not os.path.exists(ALIGNED_IMAGES_DIR):\n",
        "        os.makedirs(ALIGNED_IMAGES_DIR)\n",
        "\n",
        "\n",
        "def unpack_bz2(src_path):\n",
        "    data = bz2.BZ2File(src_path).read()\n",
        "    dst_path = src_path[:-4]\n",
        "    with open(dst_path, 'wb') as fp:\n",
        "        fp.write(data)\n",
        "    return dst_path\n",
        "\n",
        "landmarks_model_path = unpack_bz2(get_file('shape_predictor_68_face_landmarks.dat.bz2', LANDMARKS_MODEL_URL, cache_subdir='temp'))\n",
        "\n",
        "\n",
        "landmarks_detector = LandmarksDetector(landmarks_model_path)\n",
        "for img_name in [x for x in os.listdir(RAW_IMAGES_DIR) if x[0] not in '._']:\n",
        "    raw_img_path = os.path.join(RAW_IMAGES_DIR, img_name)\n",
        "    for i, face_landmarks in enumerate(landmarks_detector.get_landmarks(raw_img_path), start=1):\n",
        "        face_img_name = '%s_%02d.png' % (os.path.splitext(img_name)[0], i)\n",
        "        aligned_face_path = os.path.join(ALIGNED_IMAGES_DIR, face_img_name)\n",
        "        os.makedirs(ALIGNED_IMAGES_DIR, exist_ok=True)\n",
        "        image_align(raw_img_path, aligned_face_path, face_landmarks)\n"
      ],
      "execution_count": null,
      "outputs": []
    },
    {
      "cell_type": "code",
      "metadata": {
        "id": "6soAa2gH4PDv"
      },
      "source": [
        "from google.colab import drive\n",
        "drive.mount('/content/drive')"
      ],
      "execution_count": null,
      "outputs": []
    },
    {
      "cell_type": "code",
      "metadata": {
        "id": "WrgG6LDzBsfy"
      },
      "source": [
        "%cd /content/drive/MyDrive/datasets/\n",
        "!zip suicidegirls-faces.zip ./suicidegirls-faces -r"
      ],
      "execution_count": null,
      "outputs": []
    },
    {
      "cell_type": "code",
      "metadata": {
        "id": "DWVPynRrCeN7"
      },
      "source": [
        "!cp ./suicidegirls-faces.zip /content/drive/MyDrive/datasets/"
      ],
      "execution_count": null,
      "outputs": []
    }
  ]
}